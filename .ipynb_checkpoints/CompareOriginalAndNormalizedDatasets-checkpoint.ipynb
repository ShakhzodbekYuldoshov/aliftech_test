{
 "cells": [
  {
   "cell_type": "code",
   "execution_count": 1,
   "id": "ff6a6855",
   "metadata": {},
   "outputs": [],
   "source": [
    "import pandas as pd\n",
    "import numpy as np\n",
    "import seaborn as sns\n",
    "import matplotlib.pyplot as plt"
   ]
  },
  {
   "cell_type": "code",
   "execution_count": 2,
   "id": "be884813",
   "metadata": {},
   "outputs": [],
   "source": [
    "# load datasets\n",
    "original_df = pd.read_csv('./dataset/bodyPerformanceI.csv')\n",
    "norm_df = pd.read_csv('./dataset/bodyPerformanceNormalized.csv')"
   ]
  },
  {
   "cell_type": "code",
   "execution_count": 3,
   "id": "70621048",
   "metadata": {},
   "outputs": [
    {
     "data": {
      "text/plain": [
       "(7015, 12)"
      ]
     },
     "execution_count": 3,
     "metadata": {},
     "output_type": "execute_result"
    }
   ],
   "source": [
    "original_df.shape"
   ]
  },
  {
   "cell_type": "code",
   "execution_count": 4,
   "id": "1507d11f",
   "metadata": {},
   "outputs": [
    {
     "data": {
      "text/plain": [
       "(7015, 13)"
      ]
     },
     "execution_count": 4,
     "metadata": {},
     "output_type": "execute_result"
    }
   ],
   "source": [
    "norm_df.shape"
   ]
  },
  {
   "cell_type": "code",
   "execution_count": 19,
   "id": "10303f9e",
   "metadata": {},
   "outputs": [
    {
     "data": {
      "text/plain": [
       "Index(['Unnamed: 0', 'gender', 'class', 'age', 'height_cm', 'weight_kg',\n",
       "       'body fat_%', 'diastolic', 'systolic', 'gripForce',\n",
       "       'sit and bend forward_cm', 'sit-ups counts', 'broad jump_cm'],\n",
       "      dtype='object')"
      ]
     },
     "execution_count": 19,
     "metadata": {},
     "output_type": "execute_result"
    }
   ],
   "source": [
    "norm_df.columns"
   ]
  },
  {
   "cell_type": "code",
   "execution_count": 6,
   "id": "717b9683",
   "metadata": {},
   "outputs": [
    {
     "data": {
      "text/html": [
       "<div>\n",
       "<style scoped>\n",
       "    .dataframe tbody tr th:only-of-type {\n",
       "        vertical-align: middle;\n",
       "    }\n",
       "\n",
       "    .dataframe tbody tr th {\n",
       "        vertical-align: top;\n",
       "    }\n",
       "\n",
       "    .dataframe thead th {\n",
       "        text-align: right;\n",
       "    }\n",
       "</style>\n",
       "<table border=\"1\" class=\"dataframe\">\n",
       "  <thead>\n",
       "    <tr style=\"text-align: right;\">\n",
       "      <th></th>\n",
       "      <th>Unnamed: 0</th>\n",
       "      <th>gender</th>\n",
       "      <th>class</th>\n",
       "      <th>age</th>\n",
       "      <th>height_cm</th>\n",
       "      <th>weight_kg</th>\n",
       "      <th>body fat_%</th>\n",
       "      <th>diastolic</th>\n",
       "      <th>systolic</th>\n",
       "      <th>gripForce</th>\n",
       "      <th>sit and bend forward_cm</th>\n",
       "      <th>sit-ups counts</th>\n",
       "      <th>broad jump_cm</th>\n",
       "    </tr>\n",
       "  </thead>\n",
       "  <tbody>\n",
       "    <tr>\n",
       "      <th>0</th>\n",
       "      <td>0</td>\n",
       "      <td>F</td>\n",
       "      <td>C</td>\n",
       "      <td>0.069767</td>\n",
       "      <td>0.398256</td>\n",
       "      <td>0.088719</td>\n",
       "      <td>0.387160</td>\n",
       "      <td>0.339547</td>\n",
       "      <td>0.456740</td>\n",
       "      <td>0.391989</td>\n",
       "      <td>0.146781</td>\n",
       "      <td>0.641026</td>\n",
       "      <td>0.623729</td>\n",
       "    </tr>\n",
       "    <tr>\n",
       "      <th>1</th>\n",
       "      <td>1</td>\n",
       "      <td>F</td>\n",
       "      <td>D</td>\n",
       "      <td>0.139535</td>\n",
       "      <td>0.539244</td>\n",
       "      <td>0.399781</td>\n",
       "      <td>0.626459</td>\n",
       "      <td>0.605859</td>\n",
       "      <td>0.698189</td>\n",
       "      <td>0.437768</td>\n",
       "      <td>0.133047</td>\n",
       "      <td>0.538462</td>\n",
       "      <td>0.532203</td>\n",
       "    </tr>\n",
       "    <tr>\n",
       "      <th>2</th>\n",
       "      <td>2</td>\n",
       "      <td>M</td>\n",
       "      <td>C</td>\n",
       "      <td>0.046512</td>\n",
       "      <td>0.707849</td>\n",
       "      <td>0.371303</td>\n",
       "      <td>0.196498</td>\n",
       "      <td>0.466045</td>\n",
       "      <td>0.624413</td>\n",
       "      <td>0.682403</td>\n",
       "      <td>0.156652</td>\n",
       "      <td>0.615385</td>\n",
       "      <td>0.705085</td>\n",
       "    </tr>\n",
       "    <tr>\n",
       "      <th>3</th>\n",
       "      <td>3</td>\n",
       "      <td>M</td>\n",
       "      <td>C</td>\n",
       "      <td>0.232558</td>\n",
       "      <td>0.627907</td>\n",
       "      <td>0.395400</td>\n",
       "      <td>0.233463</td>\n",
       "      <td>0.505992</td>\n",
       "      <td>0.678068</td>\n",
       "      <td>0.566524</td>\n",
       "      <td>0.171245</td>\n",
       "      <td>0.846154</td>\n",
       "      <td>0.894915</td>\n",
       "    </tr>\n",
       "    <tr>\n",
       "      <th>4</th>\n",
       "      <td>4</td>\n",
       "      <td>M</td>\n",
       "      <td>B</td>\n",
       "      <td>0.093023</td>\n",
       "      <td>0.728198</td>\n",
       "      <td>0.332968</td>\n",
       "      <td>0.066148</td>\n",
       "      <td>0.392810</td>\n",
       "      <td>0.496982</td>\n",
       "      <td>0.600858</td>\n",
       "      <td>0.170815</td>\n",
       "      <td>0.628205</td>\n",
       "      <td>0.854237</td>\n",
       "    </tr>\n",
       "  </tbody>\n",
       "</table>\n",
       "</div>"
      ],
      "text/plain": [
       "   Unnamed: 0 gender class       age  height_cm  weight_kg  body fat_%  \\\n",
       "0           0      F     C  0.069767   0.398256   0.088719    0.387160   \n",
       "1           1      F     D  0.139535   0.539244   0.399781    0.626459   \n",
       "2           2      M     C  0.046512   0.707849   0.371303    0.196498   \n",
       "3           3      M     C  0.232558   0.627907   0.395400    0.233463   \n",
       "4           4      M     B  0.093023   0.728198   0.332968    0.066148   \n",
       "\n",
       "   diastolic  systolic  gripForce  sit and bend forward_cm  sit-ups counts  \\\n",
       "0   0.339547  0.456740   0.391989                 0.146781        0.641026   \n",
       "1   0.605859  0.698189   0.437768                 0.133047        0.538462   \n",
       "2   0.466045  0.624413   0.682403                 0.156652        0.615385   \n",
       "3   0.505992  0.678068   0.566524                 0.171245        0.846154   \n",
       "4   0.392810  0.496982   0.600858                 0.170815        0.628205   \n",
       "\n",
       "   broad jump_cm  \n",
       "0       0.623729  \n",
       "1       0.532203  \n",
       "2       0.705085  \n",
       "3       0.894915  \n",
       "4       0.854237  "
      ]
     },
     "execution_count": 6,
     "metadata": {},
     "output_type": "execute_result"
    }
   ],
   "source": [
    "norm_df.head()"
   ]
  },
  {
   "cell_type": "markdown",
   "id": "8ee68c64",
   "metadata": {},
   "source": [
    "### found one unnecessary column where written all indexes from concatenating two dataframes inside NormalizeAndSave.py file"
   ]
  },
  {
   "cell_type": "code",
   "execution_count": 15,
   "id": "ae008d61",
   "metadata": {},
   "outputs": [],
   "source": [
    "# drop that column and resave the dataset\n",
    "try:\n",
    "    norm_df.drop('Unnamed: 0', inplace=True, axis=1)\n",
    "except KeyError:\n",
    "    print('Unnamed: 0 column name not found')\n",
    "norm_df.to_csv('./dataset/bodyPerformanceNormalized.csv')"
   ]
  },
  {
   "cell_type": "code",
   "execution_count": 16,
   "id": "6f860688",
   "metadata": {},
   "outputs": [],
   "source": [
    "# reload dataset and start comparison again\n",
    "norm_df = pd.read_csv('./dataset/bodyPerformanceNormalized.csv')"
   ]
  },
  {
   "cell_type": "code",
   "execution_count": 17,
   "id": "ed1d624f",
   "metadata": {},
   "outputs": [
    {
     "data": {
      "text/plain": [
       "(7015, 12)"
      ]
     },
     "execution_count": 17,
     "metadata": {},
     "output_type": "execute_result"
    }
   ],
   "source": [
    "original_df.shape"
   ]
  },
  {
   "cell_type": "code",
   "execution_count": 18,
   "id": "c61faaa1",
   "metadata": {},
   "outputs": [
    {
     "data": {
      "text/plain": [
       "(7015, 13)"
      ]
     },
     "execution_count": 18,
     "metadata": {},
     "output_type": "execute_result"
    }
   ],
   "source": [
    "norm_df.shape"
   ]
  },
  {
   "cell_type": "code",
   "execution_count": null,
   "id": "06fcfe5e",
   "metadata": {},
   "outputs": [],
   "source": []
  }
 ],
 "metadata": {
  "kernelspec": {
   "display_name": "Python 3 (ipykernel)",
   "language": "python",
   "name": "python3"
  },
  "language_info": {
   "codemirror_mode": {
    "name": "ipython",
    "version": 3
   },
   "file_extension": ".py",
   "mimetype": "text/x-python",
   "name": "python",
   "nbconvert_exporter": "python",
   "pygments_lexer": "ipython3",
   "version": "3.9.7"
  }
 },
 "nbformat": 4,
 "nbformat_minor": 5
}
